{
 "cells": [
  {
   "cell_type": "code",
   "execution_count": 16,
   "metadata": {},
   "outputs": [
    {
     "name": "stdout",
     "output_type": "stream",
     "text": [
      "Train on 22451 samples, validate on 2495 samples\n",
      "Epoch 1/10\n",
      "22451/22451 [==============================] - 18s 815us/sample - loss: 0.6397 - acc: 0.6249 - val_loss: 0.5692 - val_acc: 0.7050\n",
      "Epoch 2/10\n",
      "22451/22451 [==============================] - 17s 748us/sample - loss: 0.5300 - acc: 0.7369 - val_loss: 0.5254 - val_acc: 0.7355\n",
      "Epoch 3/10\n",
      "22451/22451 [==============================] - 17s 760us/sample - loss: 0.4738 - acc: 0.7735 - val_loss: 0.5260 - val_acc: 0.7551\n",
      "Epoch 4/10\n",
      "22451/22451 [==============================] - 17s 749us/sample - loss: 0.4273 - acc: 0.8033 - val_loss: 0.4869 - val_acc: 0.7715\n",
      "Epoch 5/10\n",
      "22451/22451 [==============================] - 18s 789us/sample - loss: 0.3838 - acc: 0.8260 - val_loss: 0.4968 - val_acc: 0.7747\n",
      "Epoch 6/10\n",
      "22451/22451 [==============================] - 18s 808us/sample - loss: 0.3336 - acc: 0.8507 - val_loss: 0.5077 - val_acc: 0.7679\n",
      "Epoch 7/10\n",
      "22451/22451 [==============================] - 18s 797us/sample - loss: 0.2816 - acc: 0.8769 - val_loss: 0.5537 - val_acc: 0.7627\n",
      "Epoch 8/10\n",
      "22451/22451 [==============================] - 20s 873us/sample - loss: 0.2265 - acc: 0.9052 - val_loss: 0.5883 - val_acc: 0.7695\n",
      "Epoch 9/10\n",
      "22451/22451 [==============================] - 18s 808us/sample - loss: 0.1748 - acc: 0.9298 - val_loss: 0.6399 - val_acc: 0.7627\n",
      "Epoch 10/10\n",
      "22451/22451 [==============================] - 19s 835us/sample - loss: 0.1353 - acc: 0.9470 - val_loss: 0.7889 - val_acc: 0.7691\n"
     ]
    }
   ],
   "source": [
    "import tensorflow as tf\n",
    "from tensorflow.keras.models import Sequential\n",
    "from tensorflow.keras.layers import Dense, Dropout, Activation, Flatten, Conv2D , MaxPooling2D\n",
    "from tensorflow.keras.callbacks import TensorBoard\n",
    "import pickle\n",
    "import time\n",
    "\n",
    "NAME = \"Cats-vs-Dogs-CNN-642-{}\".format(int(time.time()))\n",
    "tensorboard = TensorBoard(log_dir='logs/{}'.format(NAME))\n",
    "                                \n",
    "\n",
    "X = pickle.load(open(\"X.pickle\",\"rb\"))\n",
    "y = pickle.load(open(\"Y.pickle\",\"rb\"))\n",
    "\n",
    "X = X/255.0\n",
    "\n",
    "model = Sequential()\n",
    "model.add( Conv2D(64, (3,3), input_shape= X.shape[1:]))\n",
    "model.add(Activation(\"relu\"))\n",
    "model.add(MaxPooling2D(pool_size=(2,2)))\n",
    "\n",
    "model.add(Conv2D(64,(3,3)))\n",
    "model.add(Activation(\"relu\"))\n",
    "model.add(MaxPooling2D(pool_size=(2,2)))\n",
    "\n",
    "model.add(Flatten())\n",
    "model.add(Dense(64))\n",
    "model.add(Activation(\"relu\"))\n",
    "\n",
    "model.add(Dense(1))\n",
    "model.add(Activation(\"sigmoid\"))\n",
    "\n",
    "model.compile(loss=\"binary_crossentropy\",\n",
    "              optimizer=\"adam\",\n",
    "              metrics=['accuracy'])\n",
    "\n",
    "model.fit(X , y , batch_size= 10, epochs=10, validation_split=0.1, callbacks= [tensorboard])\n",
    "model.save('42-CNN') #name your model here \n"
   ]
  },
  {
   "cell_type": "code",
   "execution_count": null,
   "metadata": {},
   "outputs": [],
   "source": []
  }
 ],
 "metadata": {
  "kernelspec": {
   "display_name": "Python 3",
   "language": "python",
   "name": "python3"
  },
  "language_info": {
   "codemirror_mode": {
    "name": "ipython",
    "version": 3
   },
   "file_extension": ".py",
   "mimetype": "text/x-python",
   "name": "python",
   "nbconvert_exporter": "python",
   "pygments_lexer": "ipython3",
   "version": "3.7.3"
  }
 },
 "nbformat": 4,
 "nbformat_minor": 2
}
